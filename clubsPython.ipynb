{
 "cells": [
  {
   "cell_type": "code",
   "execution_count": null,
   "metadata": {},
   "outputs": [],
   "source": [
    "import os\n",
    "import cv2\n",
    "import numpy as np\n",
    "from PIL import Image"
   ]
  },
  {
   "cell_type": "code",
   "execution_count": null,
   "metadata": {
    "scrolled": true
   },
   "outputs": [],
   "source": [
    "# Path = '/home/me/gym/iiscgym/clubs/img/'\n",
    "# clubs =  os.listdir(Path)\n",
    "# for clubName in clubs:\n",
    "#     path = os.path.join(Path, clubName)\n",
    "#     print(clubName)\n",
    "#     renameImages(clubName,path)\n",
    "#     cropImages(path,5,8)\n",
    "#     compressImages(path)     "
   ]
  },
  {
   "cell_type": "code",
   "execution_count": 59,
   "metadata": {},
   "outputs": [],
   "source": [
    "# # FOR INDIVIDUAL CLUBS\n",
    "\n",
    "# Path = '/home/me/gym/iiscgym/clubs/img/'\n",
    "# clubName = 'hockey'\n",
    "# path = os.path.join(Path, clubName)\n",
    "\n",
    "# renameImages(clubName,path)\n",
    "# # cropImages(path,5,8)\n",
    "# # compressImages(path)"
   ]
  },
  {
   "cell_type": "code",
   "execution_count": null,
   "metadata": {},
   "outputs": [],
   "source": [
    "/home/me/gym/iiscgym/clubs/img/hockey"
   ]
  },
  {
   "cell_type": "code",
   "execution_count": null,
   "metadata": {},
   "outputs": [],
   "source": [
    "# RENAME IMAGES TO clubName_1,clubName_2 etc..\n",
    "\n",
    "def renameImages(clubName,path):\n",
    "    name = clubName\n",
    "    os.chdir(path)\n",
    "    files = os.listdir(path)\n",
    "    i = 1;\n",
    "    suffix = ('.jpg','.jpeg','.png','.JPEG','.JPG','.PNG')\n",
    "    for file in files:\n",
    "        if file.endswith(suffix):\n",
    "            ext = os.path.splitext(file)[1]\n",
    "            newname = name+'_'+str(i)+ext\n",
    "            if not newname in files:\n",
    "                os.rename(file,newname)\n",
    "            i = i+1"
   ]
  },
  {
   "cell_type": "code",
   "execution_count": null,
   "metadata": {},
   "outputs": [],
   "source": [
    "# CROP IMAGES ASPECT RATIO a:b (Height:Width)\n",
    "\n",
    "def cropImages(path,a,b):\n",
    "    files = os.listdir(path)\n",
    "    suffix = ('.jpg','.jpeg','.png','.JPEG','.JPG','.PNG')\n",
    "    for file in files:\n",
    "        if file.endswith(suffix):\n",
    "            img = cv2.imread(file)\n",
    "            (h,w,d) = img.shape\n",
    "            if h/a < w/b:\n",
    "                H = h\n",
    "                W = round(h*b/a)\n",
    "                dw = round((w-W)/2)\n",
    "                crop_img = img[:,dw:W+dw]\n",
    "            else:\n",
    "                W = w\n",
    "                H = round(w*a/b)\n",
    "                dh = round((h-H)/2)\n",
    "                crop_img = img[dh:H+dh,:]\n",
    "    #         os.rename(newfile,name+'_old.jpg')\n",
    "            ext = os.path.splitext(file)[1]\n",
    "            name = os.path.splitext(file)[0]\n",
    "            cv2.imwrite(name+ext,crop_img)"
   ]
  },
  {
   "cell_type": "code",
   "execution_count": null,
   "metadata": {},
   "outputs": [],
   "source": [
    "# COMPRESS IMAGES using PILLOW\n",
    "\n",
    "def compressImages(path):\n",
    "    files = os.listdir(path)\n",
    "    suffix = ('.jpg','.jpeg','.png','.JPEG','.JPG','.PNG')\n",
    "    for file in files:\n",
    "        if file.endswith(suffix):\n",
    "            img = Image.open(file)\n",
    "            img.save(file,\"JPEG\",optimize=True,quality=80)"
   ]
  },
  {
   "cell_type": "code",
   "execution_count": null,
   "metadata": {},
   "outputs": [],
   "source": []
  }
 ],
 "metadata": {
  "kernelspec": {
   "display_name": "Python 3",
   "language": "python",
   "name": "python3"
  },
  "language_info": {
   "codemirror_mode": {
    "name": "ipython",
    "version": 3
   },
   "file_extension": ".py",
   "mimetype": "text/x-python",
   "name": "python",
   "nbconvert_exporter": "python",
   "pygments_lexer": "ipython3",
   "version": "3.6.6"
  }
 },
 "nbformat": 4,
 "nbformat_minor": 2
}
